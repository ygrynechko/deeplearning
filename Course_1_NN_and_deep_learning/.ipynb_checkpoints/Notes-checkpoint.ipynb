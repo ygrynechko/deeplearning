{
 "cells": [
  {
   "cell_type": "markdown",
   "id": "1c8a189c-1886-4fc3-8471-94267365fe75",
   "metadata": {},
   "source": [
    "## Vectorization\n",
    "Instead of for loops we use numpy to do matrix multiplications."
   ]
  },
  {
   "cell_type": "code",
   "execution_count": 3,
   "id": "bf6a349b-be44-4678-a777-bfd8fee43690",
   "metadata": {},
   "outputs": [
    {
     "name": "stdout",
     "output_type": "stream",
     "text": [
      "[1 2 3 4]\n"
     ]
    }
   ],
   "source": [
    "import numpy as np\n",
    "a = np.array([1,2,3,4])\n",
    "print(a)"
   ]
  },
  {
   "cell_type": "code",
   "execution_count": 15,
   "id": "d0d1af9d-5852-4d45-b0bd-7a94d7d36601",
   "metadata": {},
   "outputs": [
    {
     "name": "stdout",
     "output_type": "stream",
     "text": [
      "c value:  249748.28011225196\n",
      "Vectorized version: 1.4290809631347656ms\n",
      "c value:  249748.28011225257\n",
      "For loop: 177.02293395996094ms\n"
     ]
    }
   ],
   "source": [
    "# Compare np.dot to for loop\n",
    "import time\n",
    "a = np.random.rand(1000000)\n",
    "b = np.random.rand(1000000)\n",
    "tic = time.time()\n",
    "c = np.dot(a,b)\n",
    "toc = time.time()\n",
    "print('c value: ',c)\n",
    "print('Vectorized version: ' + str(1000*(toc-tic))+ \"ms\")\n",
    "\n",
    "c = 0\n",
    "tic = time.time()\n",
    "for i in range(1000000):\n",
    "    c+= a[i]*b[i]\n",
    "print('c value: ',c)\n",
    "toc = time.time()\n",
    "print('For loop: ' + str(1000*(toc-tic))+ \"ms\")"
   ]
  },
  {
   "cell_type": "code",
   "execution_count": 26,
   "id": "718fc7c1-1a21-450d-8287-4f90c9b36276",
   "metadata": {},
   "outputs": [
    {
     "name": "stdout",
     "output_type": "stream",
     "text": [
      "[[1.]\n",
      " [1.]\n",
      " [1.]\n",
      " [1.]\n",
      " [1.]\n",
      " [1.]\n",
      " [1.]\n",
      " [1.]\n",
      " [1.]\n",
      " [1.]]\n"
     ]
    },
    {
     "name": "stderr",
     "output_type": "stream",
     "text": [
      "/var/folders/zg/zbbdnsrs6m32y78kjk7bj6_c0000gn/T/ipykernel_16869/567468501.py:8: DeprecationWarning: Conversion of an array with ndim > 0 to a scalar is deprecated, and will error in future. Ensure you extract a single element from your array before performing this operation. (Deprecated NumPy 1.25.)\n",
      "  u[i]=math.exp(v[i])\n"
     ]
    }
   ],
   "source": [
    "import math\n",
    "# e - example\n",
    "\n",
    "# for loop\n",
    "v = np.zeros((10, 1))\n",
    "u = np.zeros((10, 1))\n",
    "for i in range(10):\n",
    "    u[i]=math.exp(v[i])\n",
    "\n",
    "# vectorized version\n",
    "u = np.exp(v)\n",
    "print(u)\n",
    "\n",
    "# other functions\n",
    "# np.log()\n",
    "# np.abs()\n",
    "# np.maximum()\n",
    "# v**2\n",
    "# etc."
   ]
  },
  {
   "cell_type": "markdown",
   "id": "8398a691-7dab-43da-a368-162e2627dbd4",
   "metadata": {},
   "source": [
    "## Vectorize logistic regression"
   ]
  },
  {
   "cell_type": "code",
   "execution_count": 27,
   "id": "1e56c239-48eb-4ba1-b9d5-f0673ef1f433",
   "metadata": {},
   "outputs": [],
   "source": [
    "# FORWARD STEP\n",
    "# 1st training example\n",
    "# z(1) = wTx(1) + b\n",
    "# a(1) = sigmoid(z(1)) - a is activation\n",
    "# 2nd training example\n",
    "# z(2) = wTx(2) + b\n",
    "# a(2) = sigmoid(z(2))\n",
    "# etc...\n",
    "# we can do all of this in one line of code\n",
    "# Z = [z(1) z(2) ... z(n)] = wTx+[b b ... b] = [wTx(1)+b wTx(2)+b ... wTx(n)+b]\n",
    "# Z = np.dot(wT, x) + b\n",
    "# b is (1,1) but it is broadcasted to (1,n)\n",
    "# A = [a(1) a(2) ... a(n)] = sigmoid(Z)\n",
    "# BACKPROPAGATION\n",
    "# dZ = A-Y\n",
    "# db = 1/m SUM(dZ(i)) = 1/m np.sum(dZ)\n",
    "# dw = 1/m X dZT"
   ]
  },
  {
   "cell_type": "code",
   "execution_count": 28,
   "id": "a1e744de-36b3-4c3b-836d-624f6c40720a",
   "metadata": {},
   "outputs": [],
   "source": [
    "# Implementation\n",
    "# for iter in range(1000):\n",
    "    # Z = wTX+b = np.dot(wTX) + b\n",
    "    # A = Sigmoid(Z)\n",
    "    # dZ = A - Y\n",
    "    # dw = 1/m XdZT\n",
    "    # db = 1/m np.sum(dZ)\n",
    "    # w := w -alfadw\n",
    "    # b := b -alfadb"
   ]
  },
  {
   "cell_type": "markdown",
   "id": "abcbde30-2dcd-44ac-8617-cc804af056da",
   "metadata": {},
   "source": [
    "## Broadcasting"
   ]
  },
  {
   "cell_type": "code",
   "execution_count": 33,
   "id": "115031e2-3c4b-4ce8-96dc-a6267bc4500b",
   "metadata": {},
   "outputs": [
    {
     "data": {
      "text/plain": [
       "array([[ 56. ,   0. ,   4.4,  68. ],\n",
       "       [  1.2, 104. ,  52. ,   8. ],\n",
       "       [  1.8, 135. ,  99. ,   0.9]])"
      ]
     },
     "execution_count": 33,
     "metadata": {},
     "output_type": "execute_result"
    }
   ],
   "source": [
    "A = np.array([[56.0, 0.0, 4.4, 68.0],\n",
    "             [1.2, 104.0, 52.0, 8.0],\n",
    "             [1.8, 135.0, 99.0, 0.9]])\n",
    "A"
   ]
  },
  {
   "cell_type": "code",
   "execution_count": 41,
   "id": "137bba47-3f39-4a50-9195-abbe46eb9da5",
   "metadata": {},
   "outputs": [
    {
     "data": {
      "text/plain": [
       "array([[94.91525424,  0.        ,  2.83140283, 88.42652796],\n",
       "       [ 2.03389831, 43.51464435, 33.46203346, 10.40312094],\n",
       "       [ 3.05084746, 56.48535565, 63.70656371,  1.17035111]])"
      ]
     },
     "execution_count": 41,
     "metadata": {},
     "output_type": "execute_result"
    }
   ],
   "source": [
    "# my solution\n",
    "(A/A.sum(0))*100"
   ]
  },
  {
   "cell_type": "code",
   "execution_count": 39,
   "id": "b3b8ad47-c399-4e09-b6d5-7449bcbce305",
   "metadata": {},
   "outputs": [
    {
     "name": "stdout",
     "output_type": "stream",
     "text": [
      "[ 59.  239.  155.4  76.9]\n"
     ]
    }
   ],
   "source": [
    "# Lecture\n",
    "cal = A.sum(axis = 0)\n",
    "print(cal)"
   ]
  },
  {
   "cell_type": "code",
   "execution_count": 40,
   "id": "c4f4cd92-6ba4-40a2-8dcd-0bccb0d9fedd",
   "metadata": {},
   "outputs": [
    {
     "name": "stdout",
     "output_type": "stream",
     "text": [
      "[[94.91525424  0.          2.83140283 88.42652796]\n",
      " [ 2.03389831 43.51464435 33.46203346 10.40312094]\n",
      " [ 3.05084746 56.48535565 63.70656371  1.17035111]]\n"
     ]
    }
   ],
   "source": [
    "percentage = 100*A/cal.reshape(1,4) # reshape is redundant, it is just added to make sure correct shape is present\n",
    "print(percentage)"
   ]
  },
  {
   "cell_type": "code",
   "execution_count": 42,
   "id": "0f009415-32fa-463c-8209-7a3340c5308f",
   "metadata": {},
   "outputs": [
    {
     "data": {
      "text/plain": [
       "array([[1],\n",
       "       [2],\n",
       "       [3]])"
      ]
     },
     "execution_count": 42,
     "metadata": {},
     "output_type": "execute_result"
    }
   ],
   "source": [
    "A = np.array([[1],\n",
    "             [2],\n",
    "             [3]])\n",
    "A"
   ]
  },
  {
   "cell_type": "code",
   "execution_count": 43,
   "id": "f76060c1-7b68-473a-9c24-15f80e4f928b",
   "metadata": {},
   "outputs": [
    {
     "data": {
      "text/plain": [
       "array([[101],\n",
       "       [102],\n",
       "       [103]])"
      ]
     },
     "execution_count": 43,
     "metadata": {},
     "output_type": "execute_result"
    }
   ],
   "source": [
    "A+100"
   ]
  },
  {
   "cell_type": "code",
   "execution_count": 45,
   "id": "7c81ec9d-a4a1-49a3-b650-fbf6a59a7e26",
   "metadata": {},
   "outputs": [
    {
     "data": {
      "text/plain": [
       "array([1, 2, 3])"
      ]
     },
     "execution_count": 45,
     "metadata": {},
     "output_type": "execute_result"
    }
   ],
   "source": [
    "A = np.array([1, 2, 3])\n",
    "A"
   ]
  },
  {
   "cell_type": "code",
   "execution_count": 46,
   "id": "3fbc2393-60b6-4031-8b4b-8ef8fb34c18e",
   "metadata": {},
   "outputs": [
    {
     "data": {
      "text/plain": [
       "array([101, 102, 103])"
      ]
     },
     "execution_count": 46,
     "metadata": {},
     "output_type": "execute_result"
    }
   ],
   "source": [
    "A + 100"
   ]
  },
  {
   "cell_type": "code",
   "execution_count": 48,
   "id": "8cf66a47-c0dc-4923-bee0-02100bc8fb5c",
   "metadata": {},
   "outputs": [],
   "source": [
    "A = np.array([[56.0, 0.0, 4.4, 68.0],\n",
    "             [1.2, 104.0, 52.0, 8.0],\n",
    "             [1.8, 135.0, 99.0, 0.9]])\n",
    "B = np.array([100, 200, 300, 400])"
   ]
  },
  {
   "cell_type": "code",
   "execution_count": 49,
   "id": "4bdb27d1-c282-4117-bd45-985012ac2943",
   "metadata": {},
   "outputs": [
    {
     "data": {
      "text/plain": [
       "array([[156. , 200. , 304.4, 468. ],\n",
       "       [101.2, 304. , 352. , 408. ],\n",
       "       [101.8, 335. , 399. , 400.9]])"
      ]
     },
     "execution_count": 49,
     "metadata": {},
     "output_type": "execute_result"
    }
   ],
   "source": [
    "A + B"
   ]
  },
  {
   "cell_type": "code",
   "execution_count": 54,
   "id": "9e3b0deb-cde1-474d-bbb3-be0a5355ef61",
   "metadata": {},
   "outputs": [],
   "source": [
    "A = np.array([[56.0, 0.0, 4.4, 68.0],\n",
    "             [1.2, 104.0, 52.0, 8.0]])\n",
    "B = np.array([[100], [200]])"
   ]
  },
  {
   "cell_type": "code",
   "execution_count": 55,
   "id": "7b9b83db-07cf-4834-966d-908f35387070",
   "metadata": {},
   "outputs": [
    {
     "data": {
      "text/plain": [
       "array([[156. , 100. , 104.4, 168. ],\n",
       "       [201.2, 304. , 252. , 208. ]])"
      ]
     },
     "execution_count": 55,
     "metadata": {},
     "output_type": "execute_result"
    }
   ],
   "source": [
    "A + B"
   ]
  },
  {
   "cell_type": "code",
   "execution_count": 57,
   "id": "4ba44712-a0f1-4c27-8ed9-7fa8899df95b",
   "metadata": {},
   "outputs": [],
   "source": [
    "# TIPS\n",
    "a = np.random.randn(5)"
   ]
  },
  {
   "cell_type": "code",
   "execution_count": 59,
   "id": "2b0a7225-9913-467f-8589-72477ede6819",
   "metadata": {},
   "outputs": [
    {
     "data": {
      "text/plain": [
       "(5,)"
      ]
     },
     "execution_count": 59,
     "metadata": {},
     "output_type": "execute_result"
    }
   ],
   "source": [
    "a.shape # rank 1 array"
   ]
  },
  {
   "cell_type": "code",
   "execution_count": 60,
   "id": "b5a6bdea-2157-421b-815e-500043ca788d",
   "metadata": {},
   "outputs": [
    {
     "data": {
      "text/plain": [
       "array([-6.46439973e-01,  6.95503553e-01, -6.30829656e-04,  3.13984487e-01,\n",
       "        6.23981610e-01])"
      ]
     },
     "execution_count": 60,
     "metadata": {},
     "output_type": "execute_result"
    }
   ],
   "source": [
    "a"
   ]
  },
  {
   "cell_type": "code",
   "execution_count": 61,
   "id": "aa6ed693-c7df-473d-9d99-c45668f99cdf",
   "metadata": {},
   "outputs": [
    {
     "data": {
      "text/plain": [
       "array([-6.46439973e-01,  6.95503553e-01, -6.30829656e-04,  3.13984487e-01,\n",
       "        6.23981610e-01])"
      ]
     },
     "execution_count": 61,
     "metadata": {},
     "output_type": "execute_result"
    }
   ],
   "source": [
    "a.T"
   ]
  },
  {
   "cell_type": "code",
   "execution_count": 62,
   "id": "bcefac3d-762b-4fc5-bef2-185c45702fd8",
   "metadata": {},
   "outputs": [
    {
     "data": {
      "text/plain": [
       "1.389549535915326"
      ]
     },
     "execution_count": 62,
     "metadata": {},
     "output_type": "execute_result"
    }
   ],
   "source": [
    "np.dot(a, a.T)"
   ]
  },
  {
   "cell_type": "code",
   "execution_count": 63,
   "id": "76581a3f-58df-4e96-a1a6-8808f2c3b302",
   "metadata": {},
   "outputs": [],
   "source": [
    "# To make sure it is 5,1 do\n",
    "a = np.random.randn(5,1) # column vector"
   ]
  },
  {
   "cell_type": "code",
   "execution_count": 65,
   "id": "c7a7b9bc-fe09-4048-a7ad-1d846e7a3555",
   "metadata": {},
   "outputs": [
    {
     "data": {
      "text/plain": [
       "array([[ 1.03752861, -0.79955011,  0.28659345, -1.01489218, -0.24614075],\n",
       "       [-0.79955011,  0.61615687, -0.22085736,  0.78210581,  0.18968331],\n",
       "       [ 0.28659345, -0.22085736,  0.07916486, -0.28034066, -0.06799073],\n",
       "       [-1.01489218,  0.78210581, -0.28034066,  0.99274962,  0.24077054],\n",
       "       [-0.24614075,  0.18968331, -0.06799073,  0.24077054,  0.05839383]])"
      ]
     },
     "execution_count": 65,
     "metadata": {},
     "output_type": "execute_result"
    }
   ],
   "source": [
    "np.dot(a, a.T)"
   ]
  },
  {
   "cell_type": "code",
   "execution_count": 66,
   "id": "1efbd661-99e5-439a-a81b-4ebf89cc553b",
   "metadata": {},
   "outputs": [
    {
     "data": {
      "text/plain": [
       "array([[-1.24088624, -1.53074724,  0.75267027, -0.59944269, -1.01705201]])"
      ]
     },
     "execution_count": 66,
     "metadata": {},
     "output_type": "execute_result"
    }
   ],
   "source": [
    "a = np.random.randn(1,5) # row vector\n",
    "a"
   ]
  },
  {
   "cell_type": "code",
   "execution_count": 69,
   "id": "f7be3418-388b-43c7-9bfc-ddc8fe16124c",
   "metadata": {},
   "outputs": [],
   "source": [
    "# assert\n",
    "assert(a.shape == (1,5))"
   ]
  },
  {
   "cell_type": "code",
   "execution_count": 70,
   "id": "585c00b0-94b1-43f3-8213-5d1021202d79",
   "metadata": {},
   "outputs": [],
   "source": [
    "a = a.reshape((1,5))"
   ]
  },
  {
   "cell_type": "code",
   "execution_count": 76,
   "id": "e84d0b14-aebe-4ad2-a967-0b743f6534db",
   "metadata": {},
   "outputs": [],
   "source": [
    "a=np.random.randn(3,4) # a.shape=(4,3)a.shape=(4,3)\n",
    "\n",
    "b=np.random.randn(1,4) # b.shape=(1,3)b.shape=(1,3)\n",
    "\n",
    "c=a*b"
   ]
  },
  {
   "cell_type": "code",
   "execution_count": 77,
   "id": "aeb9fa06-6bc2-4e57-b4f4-95ea59076032",
   "metadata": {},
   "outputs": [
    {
     "data": {
      "text/plain": [
       "(3, 4)"
      ]
     },
     "execution_count": 77,
     "metadata": {},
     "output_type": "execute_result"
    }
   ],
   "source": [
    "c.shape"
   ]
  },
  {
   "cell_type": "code",
   "execution_count": 78,
   "id": "c53820be-4fd2-4da9-956e-665c3ceef807",
   "metadata": {},
   "outputs": [
    {
     "data": {
      "text/plain": [
       "array([[4, 1],\n",
       "       [1, 9]])"
      ]
     },
     "execution_count": 78,
     "metadata": {},
     "output_type": "execute_result"
    }
   ],
   "source": [
    "a=np.array([[2,1],[1,3]])\n",
    "a*a"
   ]
  },
  {
   "cell_type": "code",
   "execution_count": 79,
   "id": "d8d0702d-1afc-4a17-a3d1-acceb3a7dbf2",
   "metadata": {},
   "outputs": [
    {
     "data": {
      "text/plain": [
       "(2, 2, 1)"
      ]
     },
     "execution_count": 79,
     "metadata": {},
     "output_type": "execute_result"
    }
   ],
   "source": [
    "x=np.array([[[1],[2]],[[3],[4]]])\n",
    "x.shape"
   ]
  },
  {
   "cell_type": "code",
   "execution_count": 80,
   "id": "6811a666-62a2-43dd-84d5-bfa9678d0902",
   "metadata": {},
   "outputs": [
    {
     "data": {
      "text/plain": [
       "array([[[1],\n",
       "        [2]],\n",
       "\n",
       "       [[3],\n",
       "        [4]]])"
      ]
     },
     "execution_count": 80,
     "metadata": {},
     "output_type": "execute_result"
    }
   ],
   "source": [
    "x"
   ]
  },
  {
   "cell_type": "code",
   "execution_count": 84,
   "id": "f7e6b8a6-76a3-4332-8bef-5ef6b1399c5c",
   "metadata": {},
   "outputs": [],
   "source": [
    "a=np.array([[1,1],[1,-1]])\n",
    "\n",
    "b=np.array([[2],[3]])\n",
    "\n",
    "c=a+b"
   ]
  },
  {
   "cell_type": "code",
   "execution_count": 85,
   "id": "b48330a7-c3eb-4ebc-8441-58652ce1997b",
   "metadata": {},
   "outputs": [
    {
     "data": {
      "text/plain": [
       "array([[3, 3],\n",
       "       [4, 2]])"
      ]
     },
     "execution_count": 85,
     "metadata": {},
     "output_type": "execute_result"
    }
   ],
   "source": [
    "c"
   ]
  },
  {
   "cell_type": "code",
   "execution_count": null,
   "id": "07d01020-039e-4446-8d9b-24e02906b7a0",
   "metadata": {},
   "outputs": [],
   "source": []
  }
 ],
 "metadata": {
  "kernelspec": {
   "display_name": "Python 3 (ipykernel)",
   "language": "python",
   "name": "python3"
  },
  "language_info": {
   "codemirror_mode": {
    "name": "ipython",
    "version": 3
   },
   "file_extension": ".py",
   "mimetype": "text/x-python",
   "name": "python",
   "nbconvert_exporter": "python",
   "pygments_lexer": "ipython3",
   "version": "3.11.8"
  }
 },
 "nbformat": 4,
 "nbformat_minor": 5
}
